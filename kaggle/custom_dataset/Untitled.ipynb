{
 "cells": [
  {
   "cell_type": "code",
   "execution_count": 4,
   "metadata": {},
   "outputs": [
    {
     "name": "stdout",
     "output_type": "stream",
     "text": [
      "5\n",
      "0 tensor([0])\n",
      "1 tensor([1])\n",
      "2 tensor([2])\n",
      "3 tensor([3])\n",
      "4 tensor([4])\n",
      "5 tensor([5])\n",
      "6 tensor([6])\n",
      "7 tensor([7])\n",
      "8 tensor([8])\n",
      "9 tensor([9])\n"
     ]
    }
   ],
   "source": [
    "import torch\n",
    "from torch.utils.data import Dataset, DataLoader\n",
    "\n",
    "class SimpleDataset(Dataset) :\n",
    "    def __init__(self, t):\n",
    "        self.t = t\n",
    "        \n",
    "    def __len__(self) :\n",
    "        return self.t\n",
    "\n",
    "    def __getitem__(self, idx) :\n",
    "        return torch.LongTensor([idx])\n",
    "\n",
    "if __name__ == \"__main__\":\n",
    "    dataset = SimpleDataset(t=5)\n",
    "    print(len(dataset))\n",
    "    it = iter(dataset)\n",
    "    \n",
    "    for i in range(10):\n",
    "        print(i, next(it))"
   ]
  },
  {
   "cell_type": "code",
   "execution_count": null,
   "metadata": {},
   "outputs": [
    {
     "name": "stdout",
     "output_type": "stream",
     "text": [
      "epoch: 0\n",
      "tensor([[3],\n",
      "        [1]])\n",
      "tensor([[4],\n",
      "        [2]])\n",
      "tensor([[0]])\n",
      "epoch: 1\n",
      "tensor([[1],\n",
      "        [4]])\n",
      "tensor([[0],\n",
      "        [2]])\n",
      "tensor([[3]])\n"
     ]
    }
   ],
   "source": [
    "if __name__ == \"__main__\":\n",
    "    dataset = SimpleDataset(t=5)\n",
    "    dataloader = DataLoader(dataset = dataset, \n",
    "                           batch_size =2 ,\n",
    "                           shuffle = True,\n",
    "                           drop_last = False)\n",
    "\n",
    "    for epoch in range(2):\n",
    "        print(f\"epoch: {epoch}\")\n",
    "        for batch in dataloader :\n",
    "            print(batch)"
   ]
  },
  {
   "cell_type": "code",
   "execution_count": null,
   "metadata": {},
   "outputs": [],
   "source": []
  }
 ],
 "metadata": {
  "kernelspec": {
   "display_name": "Python 3",
   "language": "python",
   "name": "python3"
  },
  "language_info": {
   "codemirror_mode": {
    "name": "ipython",
    "version": 3
   },
   "file_extension": ".py",
   "mimetype": "text/x-python",
   "name": "python",
   "nbconvert_exporter": "python",
   "pygments_lexer": "ipython3",
   "version": "3.7.4"
  }
 },
 "nbformat": 4,
 "nbformat_minor": 4
}
