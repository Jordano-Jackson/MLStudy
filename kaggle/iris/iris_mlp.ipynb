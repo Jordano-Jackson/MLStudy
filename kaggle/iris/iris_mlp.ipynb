{
 "cells": [
  {
   "cell_type": "code",
   "execution_count": 1,
   "id": "63ce4f9c",
   "metadata": {
    "_cell_guid": "b1076dfc-b9ad-4769-8c92-a6c4dae69d19",
    "_uuid": "8f2839f25d086af736a60e9eeb907d3b93b6e0e5",
    "execution": {
     "iopub.execute_input": "2022-03-11T06:56:10.824897Z",
     "iopub.status.busy": "2022-03-11T06:56:10.823641Z",
     "iopub.status.idle": "2022-03-11T06:56:10.840814Z",
     "shell.execute_reply": "2022-03-11T06:56:10.841324Z",
     "shell.execute_reply.started": "2022-03-11T06:35:55.868189Z"
    },
    "papermill": {
     "duration": 0.043751,
     "end_time": "2022-03-11T06:56:10.841656",
     "exception": false,
     "start_time": "2022-03-11T06:56:10.797905",
     "status": "completed"
    },
    "tags": []
   },
   "outputs": [
    {
     "name": "stdout",
     "output_type": "stream",
     "text": [
      "/kaggle/input/iris/Iris.csv\n",
      "/kaggle/input/iris/database.sqlite\n"
     ]
    }
   ],
   "source": [
    "# This Python 3 environment comes with many helpful analytics libraries installed\n",
    "# It is defined by the kaggle/python Docker image: https://github.com/kaggle/docker-python\n",
    "# For example, here's several helpful packages to load\n",
    "\n",
    "import numpy as np # linear algebra\n",
    "import pandas as pd # data processing, CSV file I/O (e.g. pd.read_csv)\n",
    "\n",
    "# Input data files are available in the read-only \"../input/\" directory\n",
    "# For example, running this (by clicking run or pressing Shift+Enter) will list all files under the input directory\n",
    "\n",
    "import os\n",
    "for dirname, _, filenames in os.walk('/kaggle/input'):\n",
    "    for filename in filenames:\n",
    "        print(os.path.join(dirname, filename))\n",
    "\n",
    "# You can write up to 20GB to the current directory (/kaggle/working/) that gets preserved as output when you create a version using \"Save & Run All\" \n",
    "# You can also write temporary files to /kaggle/temp/, but they won't be saved outside of the current session"
   ]
  },
  {
   "cell_type": "code",
   "execution_count": 2,
   "id": "e008aec2",
   "metadata": {
    "execution": {
     "iopub.execute_input": "2022-03-11T06:56:10.890805Z",
     "iopub.status.busy": "2022-03-11T06:56:10.890090Z",
     "iopub.status.idle": "2022-03-11T06:56:12.104302Z",
     "shell.execute_reply": "2022-03-11T06:56:12.103482Z",
     "shell.execute_reply.started": "2022-03-11T06:35:55.879909Z"
    },
    "papermill": {
     "duration": 1.240683,
     "end_time": "2022-03-11T06:56:12.104466",
     "exception": false,
     "start_time": "2022-03-11T06:56:10.863783",
     "status": "completed"
    },
    "tags": []
   },
   "outputs": [],
   "source": [
    "import torch\n",
    "import matplotlib.pyplot as plt"
   ]
  },
  {
   "cell_type": "code",
   "execution_count": 3,
   "id": "08f60b0c",
   "metadata": {
    "execution": {
     "iopub.execute_input": "2022-03-11T06:56:12.153188Z",
     "iopub.status.busy": "2022-03-11T06:56:12.152304Z",
     "iopub.status.idle": "2022-03-11T06:56:12.164723Z",
     "shell.execute_reply": "2022-03-11T06:56:12.165357Z",
     "shell.execute_reply.started": "2022-03-11T06:35:55.887255Z"
    },
    "papermill": {
     "duration": 0.039596,
     "end_time": "2022-03-11T06:56:12.165569",
     "exception": false,
     "start_time": "2022-03-11T06:56:12.125973",
     "status": "completed"
    },
    "tags": []
   },
   "outputs": [],
   "source": [
    "df_iris = pd.read_csv('/kaggle/input/iris/Iris.csv')"
   ]
  },
  {
   "cell_type": "code",
   "execution_count": 4,
   "id": "23220ea3",
   "metadata": {
    "execution": {
     "iopub.execute_input": "2022-03-11T06:56:12.218435Z",
     "iopub.status.busy": "2022-03-11T06:56:12.217772Z",
     "iopub.status.idle": "2022-03-11T06:56:12.234908Z",
     "shell.execute_reply": "2022-03-11T06:56:12.235416Z",
     "shell.execute_reply.started": "2022-03-11T06:35:55.901362Z"
    },
    "papermill": {
     "duration": 0.047761,
     "end_time": "2022-03-11T06:56:12.235593",
     "exception": false,
     "start_time": "2022-03-11T06:56:12.187832",
     "status": "completed"
    },
    "tags": []
   },
   "outputs": [
    {
     "data": {
      "text/html": [
       "<div>\n",
       "<style scoped>\n",
       "    .dataframe tbody tr th:only-of-type {\n",
       "        vertical-align: middle;\n",
       "    }\n",
       "\n",
       "    .dataframe tbody tr th {\n",
       "        vertical-align: top;\n",
       "    }\n",
       "\n",
       "    .dataframe thead th {\n",
       "        text-align: right;\n",
       "    }\n",
       "</style>\n",
       "<table border=\"1\" class=\"dataframe\">\n",
       "  <thead>\n",
       "    <tr style=\"text-align: right;\">\n",
       "      <th></th>\n",
       "      <th>Id</th>\n",
       "      <th>SepalLengthCm</th>\n",
       "      <th>SepalWidthCm</th>\n",
       "      <th>PetalLengthCm</th>\n",
       "      <th>PetalWidthCm</th>\n",
       "      <th>Species</th>\n",
       "    </tr>\n",
       "  </thead>\n",
       "  <tbody>\n",
       "    <tr>\n",
       "      <th>0</th>\n",
       "      <td>1</td>\n",
       "      <td>5.1</td>\n",
       "      <td>3.5</td>\n",
       "      <td>1.4</td>\n",
       "      <td>0.2</td>\n",
       "      <td>Iris-setosa</td>\n",
       "    </tr>\n",
       "    <tr>\n",
       "      <th>1</th>\n",
       "      <td>2</td>\n",
       "      <td>4.9</td>\n",
       "      <td>3.0</td>\n",
       "      <td>1.4</td>\n",
       "      <td>0.2</td>\n",
       "      <td>Iris-setosa</td>\n",
       "    </tr>\n",
       "    <tr>\n",
       "      <th>2</th>\n",
       "      <td>3</td>\n",
       "      <td>4.7</td>\n",
       "      <td>3.2</td>\n",
       "      <td>1.3</td>\n",
       "      <td>0.2</td>\n",
       "      <td>Iris-setosa</td>\n",
       "    </tr>\n",
       "    <tr>\n",
       "      <th>3</th>\n",
       "      <td>4</td>\n",
       "      <td>4.6</td>\n",
       "      <td>3.1</td>\n",
       "      <td>1.5</td>\n",
       "      <td>0.2</td>\n",
       "      <td>Iris-setosa</td>\n",
       "    </tr>\n",
       "    <tr>\n",
       "      <th>4</th>\n",
       "      <td>5</td>\n",
       "      <td>5.0</td>\n",
       "      <td>3.6</td>\n",
       "      <td>1.4</td>\n",
       "      <td>0.2</td>\n",
       "      <td>Iris-setosa</td>\n",
       "    </tr>\n",
       "  </tbody>\n",
       "</table>\n",
       "</div>"
      ],
      "text/plain": [
       "   Id  SepalLengthCm  SepalWidthCm  PetalLengthCm  PetalWidthCm      Species\n",
       "0   1            5.1           3.5            1.4           0.2  Iris-setosa\n",
       "1   2            4.9           3.0            1.4           0.2  Iris-setosa\n",
       "2   3            4.7           3.2            1.3           0.2  Iris-setosa\n",
       "3   4            4.6           3.1            1.5           0.2  Iris-setosa\n",
       "4   5            5.0           3.6            1.4           0.2  Iris-setosa"
      ]
     },
     "execution_count": 4,
     "metadata": {},
     "output_type": "execute_result"
    }
   ],
   "source": [
    "df_iris.head()"
   ]
  },
  {
   "cell_type": "code",
   "execution_count": 5,
   "id": "55cab481",
   "metadata": {
    "execution": {
     "iopub.execute_input": "2022-03-11T06:56:12.282737Z",
     "iopub.status.busy": "2022-03-11T06:56:12.282078Z",
     "iopub.status.idle": "2022-03-11T06:56:12.345746Z",
     "shell.execute_reply": "2022-03-11T06:56:12.346269Z",
     "shell.execute_reply.started": "2022-03-11T06:35:55.921752Z"
    },
    "papermill": {
     "duration": 0.088686,
     "end_time": "2022-03-11T06:56:12.346464",
     "exception": false,
     "start_time": "2022-03-11T06:56:12.257778",
     "status": "completed"
    },
    "tags": []
   },
   "outputs": [
    {
     "data": {
      "text/html": [
       "<div>\n",
       "<style scoped>\n",
       "    .dataframe tbody tr th:only-of-type {\n",
       "        vertical-align: middle;\n",
       "    }\n",
       "\n",
       "    .dataframe tbody tr th {\n",
       "        vertical-align: top;\n",
       "    }\n",
       "\n",
       "    .dataframe thead th {\n",
       "        text-align: right;\n",
       "    }\n",
       "</style>\n",
       "<table border=\"1\" class=\"dataframe\">\n",
       "  <thead>\n",
       "    <tr style=\"text-align: right;\">\n",
       "      <th></th>\n",
       "      <th>Species</th>\n",
       "      <th>Iris-setosa</th>\n",
       "      <th>Iris-versicolor</th>\n",
       "      <th>Iris-virginica</th>\n",
       "    </tr>\n",
       "  </thead>\n",
       "  <tbody>\n",
       "    <tr>\n",
       "      <th rowspan=\"6\" valign=\"top\">SepalLengthCm</th>\n",
       "      <th>count</th>\n",
       "      <td>50.000000</td>\n",
       "      <td>50.000000</td>\n",
       "      <td>50.000000</td>\n",
       "    </tr>\n",
       "    <tr>\n",
       "      <th>mean</th>\n",
       "      <td>5.006000</td>\n",
       "      <td>5.936000</td>\n",
       "      <td>6.588000</td>\n",
       "    </tr>\n",
       "    <tr>\n",
       "      <th>std</th>\n",
       "      <td>0.352490</td>\n",
       "      <td>0.516171</td>\n",
       "      <td>0.635880</td>\n",
       "    </tr>\n",
       "    <tr>\n",
       "      <th>min</th>\n",
       "      <td>4.300000</td>\n",
       "      <td>4.900000</td>\n",
       "      <td>4.900000</td>\n",
       "    </tr>\n",
       "    <tr>\n",
       "      <th>50%</th>\n",
       "      <td>5.000000</td>\n",
       "      <td>5.900000</td>\n",
       "      <td>6.500000</td>\n",
       "    </tr>\n",
       "    <tr>\n",
       "      <th>max</th>\n",
       "      <td>5.800000</td>\n",
       "      <td>7.000000</td>\n",
       "      <td>7.900000</td>\n",
       "    </tr>\n",
       "    <tr>\n",
       "      <th rowspan=\"6\" valign=\"top\">SepalWidthCm</th>\n",
       "      <th>count</th>\n",
       "      <td>50.000000</td>\n",
       "      <td>50.000000</td>\n",
       "      <td>50.000000</td>\n",
       "    </tr>\n",
       "    <tr>\n",
       "      <th>mean</th>\n",
       "      <td>3.418000</td>\n",
       "      <td>2.770000</td>\n",
       "      <td>2.974000</td>\n",
       "    </tr>\n",
       "    <tr>\n",
       "      <th>std</th>\n",
       "      <td>0.381024</td>\n",
       "      <td>0.313798</td>\n",
       "      <td>0.322497</td>\n",
       "    </tr>\n",
       "    <tr>\n",
       "      <th>min</th>\n",
       "      <td>2.300000</td>\n",
       "      <td>2.000000</td>\n",
       "      <td>2.200000</td>\n",
       "    </tr>\n",
       "    <tr>\n",
       "      <th>50%</th>\n",
       "      <td>3.400000</td>\n",
       "      <td>2.800000</td>\n",
       "      <td>3.000000</td>\n",
       "    </tr>\n",
       "    <tr>\n",
       "      <th>max</th>\n",
       "      <td>4.400000</td>\n",
       "      <td>3.400000</td>\n",
       "      <td>3.800000</td>\n",
       "    </tr>\n",
       "    <tr>\n",
       "      <th rowspan=\"6\" valign=\"top\">PetalLengthCm</th>\n",
       "      <th>count</th>\n",
       "      <td>50.000000</td>\n",
       "      <td>50.000000</td>\n",
       "      <td>50.000000</td>\n",
       "    </tr>\n",
       "    <tr>\n",
       "      <th>mean</th>\n",
       "      <td>1.464000</td>\n",
       "      <td>4.260000</td>\n",
       "      <td>5.552000</td>\n",
       "    </tr>\n",
       "    <tr>\n",
       "      <th>std</th>\n",
       "      <td>0.173511</td>\n",
       "      <td>0.469911</td>\n",
       "      <td>0.551895</td>\n",
       "    </tr>\n",
       "    <tr>\n",
       "      <th>min</th>\n",
       "      <td>1.000000</td>\n",
       "      <td>3.000000</td>\n",
       "      <td>4.500000</td>\n",
       "    </tr>\n",
       "    <tr>\n",
       "      <th>50%</th>\n",
       "      <td>1.500000</td>\n",
       "      <td>4.350000</td>\n",
       "      <td>5.550000</td>\n",
       "    </tr>\n",
       "    <tr>\n",
       "      <th>max</th>\n",
       "      <td>1.900000</td>\n",
       "      <td>5.100000</td>\n",
       "      <td>6.900000</td>\n",
       "    </tr>\n",
       "    <tr>\n",
       "      <th rowspan=\"6\" valign=\"top\">PetalWidthCm</th>\n",
       "      <th>count</th>\n",
       "      <td>50.000000</td>\n",
       "      <td>50.000000</td>\n",
       "      <td>50.000000</td>\n",
       "    </tr>\n",
       "    <tr>\n",
       "      <th>mean</th>\n",
       "      <td>0.244000</td>\n",
       "      <td>1.326000</td>\n",
       "      <td>2.026000</td>\n",
       "    </tr>\n",
       "    <tr>\n",
       "      <th>std</th>\n",
       "      <td>0.107210</td>\n",
       "      <td>0.197753</td>\n",
       "      <td>0.274650</td>\n",
       "    </tr>\n",
       "    <tr>\n",
       "      <th>min</th>\n",
       "      <td>0.100000</td>\n",
       "      <td>1.000000</td>\n",
       "      <td>1.400000</td>\n",
       "    </tr>\n",
       "    <tr>\n",
       "      <th>50%</th>\n",
       "      <td>0.200000</td>\n",
       "      <td>1.300000</td>\n",
       "      <td>2.000000</td>\n",
       "    </tr>\n",
       "    <tr>\n",
       "      <th>max</th>\n",
       "      <td>0.600000</td>\n",
       "      <td>1.800000</td>\n",
       "      <td>2.500000</td>\n",
       "    </tr>\n",
       "  </tbody>\n",
       "</table>\n",
       "</div>"
      ],
      "text/plain": [
       "Species              Iris-setosa  Iris-versicolor  Iris-virginica\n",
       "SepalLengthCm count    50.000000        50.000000       50.000000\n",
       "              mean      5.006000         5.936000        6.588000\n",
       "              std       0.352490         0.516171        0.635880\n",
       "              min       4.300000         4.900000        4.900000\n",
       "              50%       5.000000         5.900000        6.500000\n",
       "              max       5.800000         7.000000        7.900000\n",
       "SepalWidthCm  count    50.000000        50.000000       50.000000\n",
       "              mean      3.418000         2.770000        2.974000\n",
       "              std       0.381024         0.313798        0.322497\n",
       "              min       2.300000         2.000000        2.200000\n",
       "              50%       3.400000         2.800000        3.000000\n",
       "              max       4.400000         3.400000        3.800000\n",
       "PetalLengthCm count    50.000000        50.000000       50.000000\n",
       "              mean      1.464000         4.260000        5.552000\n",
       "              std       0.173511         0.469911        0.551895\n",
       "              min       1.000000         3.000000        4.500000\n",
       "              50%       1.500000         4.350000        5.550000\n",
       "              max       1.900000         5.100000        6.900000\n",
       "PetalWidthCm  count    50.000000        50.000000       50.000000\n",
       "              mean      0.244000         1.326000        2.026000\n",
       "              std       0.107210         0.197753        0.274650\n",
       "              min       0.100000         1.000000        1.400000\n",
       "              50%       0.200000         1.300000        2.000000\n",
       "              max       0.600000         1.800000        2.500000"
      ]
     },
     "execution_count": 5,
     "metadata": {},
     "output_type": "execute_result"
    }
   ],
   "source": [
    "df_iris.drop('Id',axis=1).groupby('Species').describe(percentiles=[]).transpose()"
   ]
  },
  {
   "cell_type": "code",
   "execution_count": 6,
   "id": "0526b5cb",
   "metadata": {
    "execution": {
     "iopub.execute_input": "2022-03-11T06:56:12.396330Z",
     "iopub.status.busy": "2022-03-11T06:56:12.395320Z",
     "iopub.status.idle": "2022-03-11T06:56:12.657478Z",
     "shell.execute_reply": "2022-03-11T06:56:12.658404Z",
     "shell.execute_reply.started": "2022-03-11T06:35:55.966148Z"
    },
    "papermill": {
     "duration": 0.289315,
     "end_time": "2022-03-11T06:56:12.658626",
     "exception": false,
     "start_time": "2022-03-11T06:56:12.369311",
     "status": "completed"
    },
    "tags": []
   },
   "outputs": [
    {
     "data": {
      "text/plain": [
       "(array([ 9., 23., 14., 27., 16., 26., 18.,  6.,  5.,  6.]),\n",
       " array([4.3 , 4.66, 5.02, 5.38, 5.74, 6.1 , 6.46, 6.82, 7.18, 7.54, 7.9 ]),\n",
       " <BarContainer object of 10 artists>)"
      ]
     },
     "execution_count": 6,
     "metadata": {},
     "output_type": "execute_result"
    },
    {
     "data": {
      "image/png": "[encoded data removed]",
      "text/plain": [
       "<Figure size 432x288 with 1 Axes>"
      ]
     },
     "metadata": {
      "needs_background": "light"
     },
     "output_type": "display_data"
    }
   ],
   "source": [
    "plt.hist(df_iris[\"SepalLengthCm\"])"
   ]
  },
  {
   "cell_type": "code",
   "execution_count": 7,
   "id": "19d4fa96",
   "metadata": {
    "execution": {
     "iopub.execute_input": "2022-03-11T06:56:12.715517Z",
     "iopub.status.busy": "2022-03-11T06:56:12.714421Z",
     "iopub.status.idle": "2022-03-11T06:56:12.940050Z",
     "shell.execute_reply": "2022-03-11T06:56:12.939464Z",
     "shell.execute_reply.started": "2022-03-11T06:35:56.176934Z"
    },
    "papermill": {
     "duration": 0.256114,
     "end_time": "2022-03-11T06:56:12.940210",
     "exception": false,
     "start_time": "2022-03-11T06:56:12.684096",
     "status": "completed"
    },
    "tags": []
   },
   "outputs": [
    {
     "data": {
      "text/plain": [
       "(array([ 4.,  7., 22., 24., 38., 31.,  9., 11.,  2.,  2.]),\n",
       " array([2.  , 2.24, 2.48, 2.72, 2.96, 3.2 , 3.44, 3.68, 3.92, 4.16, 4.4 ]),\n",
       " <BarContainer object of 10 artists>)"
      ]
     },
     "execution_count": 7,
     "metadata": {},
     "output_type": "execute_result"
    },
    {
     "data": {
      "image/png": "[encoded data removed]",
      "text/plain": [
       "<Figure size 432x288 with 1 Axes>"
      ]
     },
     "metadata": {
      "needs_background": "light"
     },
     "output_type": "display_data"
    }
   ],
   "source": [
    "\n",
    "plt.hist(df_iris[\"SepalWidthCm\"])"
   ]
  },
  {
   "cell_type": "code",
   "execution_count": 8,
   "id": "2533798a",
   "metadata": {
    "execution": {
     "iopub.execute_input": "2022-03-11T06:56:12.993615Z",
     "iopub.status.busy": "2022-03-11T06:56:12.992884Z",
     "iopub.status.idle": "2022-03-11T06:56:13.222458Z",
     "shell.execute_reply": "2022-03-11T06:56:13.223029Z",
     "shell.execute_reply.started": "2022-03-11T06:35:56.332362Z"
    },
    "papermill": {
     "duration": 0.258263,
     "end_time": "2022-03-11T06:56:13.223228",
     "exception": false,
     "start_time": "2022-03-11T06:56:12.964965",
     "status": "completed"
    },
    "tags": []
   },
   "outputs": [
    {
     "data": {
      "text/plain": [
       "(array([37., 13.,  0.,  3.,  8., 26., 29., 18., 11.,  5.]),\n",
       " array([1.  , 1.59, 2.18, 2.77, 3.36, 3.95, 4.54, 5.13, 5.72, 6.31, 6.9 ]),\n",
       " <BarContainer object of 10 artists>)"
      ]
     },
     "execution_count": 8,
     "metadata": {},
     "output_type": "execute_result"
    },
    {
     "data": {
      "image/png": "[encoded data removed]",
      "text/plain": [
       "<Figure size 432x288 with 1 Axes>"
      ]
     },
     "metadata": {
      "needs_background": "light"
     },
     "output_type": "display_data"
    }
   ],
   "source": [
    "\n",
    "plt.hist(df_iris[\"PetalLengthCm\"])"
   ]
  },
  {
   "cell_type": "code",
   "execution_count": 9,
   "id": "15e65c5d",
   "metadata": {
    "execution": {
     "iopub.execute_input": "2022-03-11T06:56:13.282304Z",
     "iopub.status.busy": "2022-03-11T06:56:13.281590Z",
     "iopub.status.idle": "2022-03-11T06:56:13.500560Z",
     "shell.execute_reply": "2022-03-11T06:56:13.501343Z",
     "shell.execute_reply.started": "2022-03-11T06:35:56.492619Z"
    },
    "papermill": {
     "duration": 0.249331,
     "end_time": "2022-03-11T06:56:13.501555",
     "exception": false,
     "start_time": "2022-03-11T06:56:13.252224",
     "status": "completed"
    },
    "tags": []
   },
   "outputs": [
    {
     "data": {
      "text/plain": [
       "(array([41.,  8.,  1.,  7.,  8., 33.,  6., 23.,  9., 14.]),\n",
       " array([0.1 , 0.34, 0.58, 0.82, 1.06, 1.3 , 1.54, 1.78, 2.02, 2.26, 2.5 ]),\n",
       " <BarContainer object of 10 artists>)"
      ]
     },
     "execution_count": 9,
     "metadata": {},
     "output_type": "execute_result"
    },
    {
     "data": {
      "image/png": "[encoded data removed]",
      "text/plain": [
       "<Figure size 432x288 with 1 Axes>"
      ]
     },
     "metadata": {
      "needs_background": "light"
     },
     "output_type": "display_data"
    }
   ],
   "source": [
    "\n",
    "plt.hist(df_iris[\"PetalWidthCm\"])"
   ]
  },
  {
   "cell_type": "code",
   "execution_count": 10,
   "id": "78204831",
   "metadata": {
    "execution": {
     "iopub.execute_input": "2022-03-11T06:56:13.560850Z",
     "iopub.status.busy": "2022-03-11T06:56:13.560074Z",
     "iopub.status.idle": "2022-03-11T06:56:13.566383Z",
     "shell.execute_reply": "2022-03-11T06:56:13.566890Z",
     "shell.execute_reply.started": "2022-03-11T06:35:56.652311Z"
    },
    "papermill": {
     "duration": 0.038088,
     "end_time": "2022-03-11T06:56:13.567101",
     "exception": false,
     "start_time": "2022-03-11T06:56:13.529013",
     "status": "completed"
    },
    "tags": []
   },
   "outputs": [],
   "source": [
    "df_iris[\"Species\"] = df_iris[\"Species\"].factorize()[0]\n",
    "df_spec = df_iris[\"Species\"]\n",
    "df_iris = df_iris.drop([\"Id\",\"Species\"],axis=1)"
   ]
  },
  {
   "cell_type": "code",
   "execution_count": 11,
   "id": "5eaca5ca",
   "metadata": {
    "execution": {
     "iopub.execute_input": "2022-03-11T06:56:13.627880Z",
     "iopub.status.busy": "2022-03-11T06:56:13.627150Z",
     "iopub.status.idle": "2022-03-11T06:56:13.633448Z",
     "shell.execute_reply": "2022-03-11T06:56:13.633940Z",
     "shell.execute_reply.started": "2022-03-11T06:35:56.662196Z"
    },
    "papermill": {
     "duration": 0.037358,
     "end_time": "2022-03-11T06:56:13.634152",
     "exception": false,
     "start_time": "2022-03-11T06:56:13.596794",
     "status": "completed"
    },
    "tags": []
   },
   "outputs": [],
   "source": [
    "from torch.utils.data import Dataset\n",
    "from torch.utils.data import DataLoader\n",
    "\n",
    "class Dataset(Dataset):\n",
    "    def __init__(self,X,y) :\n",
    "        self.X = torch.Tensor(X.to_numpy());\n",
    "        self.y = torch.Tensor(y.to_numpy()).reshape(-1,1);\n",
    "    \n",
    "    def __len__(self) :\n",
    "        return len(self.X)\n",
    "    \n",
    "    def __getitem__(self, idx) :\n",
    "        x = torch.FloatTensor(self.X[idx])\n",
    "        y = torch.FloatTensor(self.y[idx])\n",
    "        return x,y;\n"
   ]
  },
  {
   "cell_type": "code",
   "execution_count": 12,
   "id": "00514f96",
   "metadata": {
    "execution": {
     "iopub.execute_input": "2022-03-11T06:56:13.693819Z",
     "iopub.status.busy": "2022-03-11T06:56:13.692990Z",
     "iopub.status.idle": "2022-03-11T06:56:13.700985Z",
     "shell.execute_reply": "2022-03-11T06:56:13.701481Z",
     "shell.execute_reply.started": "2022-03-11T06:35:56.672464Z"
    },
    "papermill": {
     "duration": 0.039973,
     "end_time": "2022-03-11T06:56:13.701693",
     "exception": false,
     "start_time": "2022-03-11T06:56:13.661720",
     "status": "completed"
    },
    "tags": []
   },
   "outputs": [],
   "source": [
    "df_iris_train_X = pd.concat([df_iris[:30],df_iris[50:80],df_iris[100:130]])\n",
    "df_iris_train_y = pd.concat([df_spec[:30],df_spec[50:80],df_spec[100:130]])\n",
    "df_iris_val_X = pd.concat([df_iris[31:49],df_iris[81:99],df_iris[131:149]])\n",
    "df_iris_val_y = pd.concat([df_spec[31:49],df_spec[81:99],df_spec[131:149]])"
   ]
  },
  {
   "cell_type": "code",
   "execution_count": 13,
   "id": "663c939a",
   "metadata": {
    "execution": {
     "iopub.execute_input": "2022-03-11T06:56:13.765455Z",
     "iopub.status.busy": "2022-03-11T06:56:13.764700Z",
     "iopub.status.idle": "2022-03-11T06:56:13.791235Z",
     "shell.execute_reply": "2022-03-11T06:56:13.791777Z",
     "shell.execute_reply.started": "2022-03-11T06:35:56.687737Z"
    },
    "papermill": {
     "duration": 0.063035,
     "end_time": "2022-03-11T06:56:13.792004",
     "exception": false,
     "start_time": "2022-03-11T06:56:13.728969",
     "status": "completed"
    },
    "tags": []
   },
   "outputs": [],
   "source": [
    "train_dataset = Dataset(df_iris_train_X, df_iris_train_y)\n",
    "train_dataloader = DataLoader(train_dataset, batch_size=1, shuffle=True)\n",
    "\n",
    "val_dataset = Dataset(df_iris_val_X, df_iris_val_y)\n",
    "val_dataloader = DataLoader(val_dataset, batch_size=1, shuffle=True)"
   ]
  },
  {
   "cell_type": "code",
   "execution_count": 14,
   "id": "40034637",
   "metadata": {
    "execution": {
     "iopub.execute_input": "2022-03-11T06:56:13.851821Z",
     "iopub.status.busy": "2022-03-11T06:56:13.851082Z",
     "iopub.status.idle": "2022-03-11T06:56:13.870809Z",
     "shell.execute_reply": "2022-03-11T06:56:13.871366Z",
     "shell.execute_reply.started": "2022-03-11T06:35:56.697768Z"
    },
    "papermill": {
     "duration": 0.051624,
     "end_time": "2022-03-11T06:56:13.871574",
     "exception": false,
     "start_time": "2022-03-11T06:56:13.819950",
     "status": "completed"
    },
    "tags": []
   },
   "outputs": [
    {
     "name": "stdout",
     "output_type": "stream",
     "text": [
      "ThreeLayerNet(\n",
      "  (flatten): Flatten(start_dim=1, end_dim=-1)\n",
      "  (linear_relu_stack): Sequential(\n",
      "    (0): Linear(in_features=4, out_features=20, bias=True)\n",
      "    (1): ReLU()\n",
      "    (2): Linear(in_features=20, out_features=20, bias=True)\n",
      "    (3): ReLU()\n",
      "    (4): Linear(in_features=20, out_features=1, bias=True)\n",
      "  )\n",
      ")\n"
     ]
    }
   ],
   "source": [
    "from torch import nn\n",
    "\n",
    "class ThreeLayerNet(nn.Module) :\n",
    "    def __init__(self) :\n",
    "        super(ThreeLayerNet, self).__init__()\n",
    "        self.flatten = nn.Flatten()\n",
    "        self.linear_relu_stack = nn.Sequential(\n",
    "            nn.Linear(4,20),\n",
    "            nn.ReLU(),\n",
    "            nn.Linear(20,20),\n",
    "            nn.ReLU(),\n",
    "            nn.Linear(20,1)\n",
    "        )\n",
    "        \n",
    "    def forward(self,x) :\n",
    "        x = self.flatten(x)\n",
    "        y = self.linear_relu_stack(x)\n",
    "        #print(np.shape(x),np.shape(y))\n",
    "        return y;\n",
    "    \n",
    "model = ThreeLayerNet()\n",
    "print(model)"
   ]
  },
  {
   "cell_type": "code",
   "execution_count": 15,
   "id": "eb5f7e72",
   "metadata": {
    "execution": {
     "iopub.execute_input": "2022-03-11T06:56:13.933373Z",
     "iopub.status.busy": "2022-03-11T06:56:13.932554Z",
     "iopub.status.idle": "2022-03-11T06:56:13.934074Z",
     "shell.execute_reply": "2022-03-11T06:56:13.934580Z",
     "shell.execute_reply.started": "2022-03-11T06:35:56.708598Z"
    },
    "papermill": {
     "duration": 0.035218,
     "end_time": "2022-03-11T06:56:13.934771",
     "exception": false,
     "start_time": "2022-03-11T06:56:13.899553",
     "status": "completed"
    },
    "tags": []
   },
   "outputs": [],
   "source": [
    "loss_fn = nn.MSELoss()\n",
    "\n",
    "optimizer = torch.optim.SGD(model.parameters(), lr=1e-3)"
   ]
  },
  {
   "cell_type": "code",
   "execution_count": 16,
   "id": "4e6f870b",
   "metadata": {
    "execution": {
     "iopub.execute_input": "2022-03-11T06:56:13.994656Z",
     "iopub.status.busy": "2022-03-11T06:56:13.993905Z",
     "iopub.status.idle": "2022-03-11T06:56:14.000143Z",
     "shell.execute_reply": "2022-03-11T06:56:14.000674Z",
     "shell.execute_reply.started": "2022-03-11T06:35:56.718076Z"
    },
    "papermill": {
     "duration": 0.037967,
     "end_time": "2022-03-11T06:56:14.000867",
     "exception": false,
     "start_time": "2022-03-11T06:56:13.962900",
     "status": "completed"
    },
    "tags": []
   },
   "outputs": [],
   "source": [
    "def train(dataloader, model, loss_fn, optimizer) :\n",
    "    size = len(dataloader.dataset)\n",
    "    for batch, (X,y), in enumerate(dataloader):\n",
    "        pred = model.forward(X)\n",
    "        loss = loss_fn(pred, y)\n",
    "        train_loss_log.append(loss.item());\n",
    "        \n",
    "        optimizer.zero_grad()\n",
    "        loss.backward()\n",
    "        optimizer.step()\n",
    "        \n",
    "        if(batch%30==0) :\n",
    "            loss,current = loss.item(), batch* len(X)\n",
    "            print(f\"loss: {loss:>7f} [{current:>5d}/{size:>5d}]\")"
   ]
  },
  {
   "cell_type": "code",
   "execution_count": 17,
   "id": "a98aae7f",
   "metadata": {
    "execution": {
     "iopub.execute_input": "2022-03-11T06:56:14.060059Z",
     "iopub.status.busy": "2022-03-11T06:56:14.059305Z",
     "iopub.status.idle": "2022-03-11T06:56:14.065941Z",
     "shell.execute_reply": "2022-03-11T06:56:14.066465Z",
     "shell.execute_reply.started": "2022-03-11T06:35:56.734040Z"
    },
    "papermill": {
     "duration": 0.03806,
     "end_time": "2022-03-11T06:56:14.066679",
     "exception": false,
     "start_time": "2022-03-11T06:56:14.028619",
     "status": "completed"
    },
    "tags": []
   },
   "outputs": [],
   "source": [
    "def test(dataloader, model, loss_fn) :\n",
    "    size = len(dataloader.dataset)\n",
    "    num_batches = len(dataloader)\n",
    "    model.eval()\n",
    "    val_loss, correct = 0, 0\n",
    "    with torch.no_grad():\n",
    "        for X,y in dataloader :\n",
    "            pred = model.forward(X)\n",
    "            if(pred <= 0.5) :\n",
    "                ans = 0;\n",
    "            elif(pred <= 1.5) :\n",
    "                ans = 1;\n",
    "            else :\n",
    "                ans = 2;\n",
    "            \n",
    "            val_loss = loss_fn(pred,y).item()\n",
    "            correct += (ans==y).type(torch.float).sum().item()\n",
    "    val_loss /= num_batches\n",
    "    correct /= size;\n",
    "    print(f\"val Error : \\n Accuracy: { (100*correct) : >0.1f}% Avg loss : {val_loss :>8f}\\n\")"
   ]
  },
  {
   "cell_type": "code",
   "execution_count": 18,
   "id": "6ece79ad",
   "metadata": {
    "execution": {
     "iopub.execute_input": "2022-03-11T06:56:14.125571Z",
     "iopub.status.busy": "2022-03-11T06:56:14.124887Z",
     "iopub.status.idle": "2022-03-11T06:56:15.438734Z",
     "shell.execute_reply": "2022-03-11T06:56:15.437977Z",
     "shell.execute_reply.started": "2022-03-11T06:35:56.745435Z"
    },
    "papermill": {
     "duration": 1.344375,
     "end_time": "2022-03-11T06:56:15.438893",
     "exception": false,
     "start_time": "2022-03-11T06:56:14.094518",
     "status": "completed"
    },
    "tags": []
   },
   "outputs": [
    {
     "name": "stdout",
     "output_type": "stream",
     "text": [
      "Epoch 1\n",
      "------------------\n",
      "loss: 0.175789 [    0/   90]\n",
      "loss: 0.190656 [   30/   90]\n",
      "loss: 0.550461 [   60/   90]\n",
      "val Error : \n",
      " Accuracy: 64.8% Avg loss : 0.006982\n",
      "\n",
      "Epoch 2\n",
      "------------------\n",
      "loss: 0.262471 [    0/   90]\n",
      "loss: 0.163295 [   30/   90]\n",
      "loss: 0.159068 [   60/   90]\n",
      "val Error : \n",
      " Accuracy: 88.9% Avg loss : 0.000432\n",
      "\n",
      "Epoch 3\n",
      "------------------\n",
      "loss: 0.020345 [    0/   90]\n",
      "loss: 0.185248 [   30/   90]\n",
      "loss: 0.126144 [   60/   90]\n",
      "val Error : \n",
      " Accuracy: 92.6% Avg loss : 0.000047\n",
      "\n",
      "Epoch 4\n",
      "------------------\n",
      "loss: 0.020584 [    0/   90]\n",
      "loss: 0.123505 [   30/   90]\n",
      "loss: 0.028263 [   60/   90]\n",
      "val Error : \n",
      " Accuracy: 96.3% Avg loss : 0.001575\n",
      "\n",
      "Epoch 5\n",
      "------------------\n",
      "loss: 0.093737 [    0/   90]\n",
      "loss: 0.008745 [   30/   90]\n",
      "loss: 0.049555 [   60/   90]\n",
      "val Error : \n",
      " Accuracy: 94.4% Avg loss : 0.004586\n",
      "\n",
      "Epoch 6\n",
      "------------------\n",
      "loss: 0.242624 [    0/   90]\n",
      "loss: 0.092171 [   30/   90]\n",
      "loss: 0.012620 [   60/   90]\n",
      "val Error : \n",
      " Accuracy: 98.1% Avg loss : 0.000222\n",
      "\n",
      "Epoch 7\n",
      "------------------\n",
      "loss: 0.014963 [    0/   90]\n",
      "loss: 0.000005 [   30/   90]\n",
      "loss: 0.199614 [   60/   90]\n",
      "val Error : \n",
      " Accuracy: 94.4% Avg loss : 0.004005\n",
      "\n",
      "Epoch 8\n",
      "------------------\n",
      "loss: 0.000251 [    0/   90]\n",
      "loss: 0.020110 [   30/   90]\n",
      "loss: 0.304670 [   60/   90]\n",
      "val Error : \n",
      " Accuracy: 98.1% Avg loss : 0.000026\n",
      "\n",
      "Epoch 9\n",
      "------------------\n",
      "loss: 0.004735 [    0/   90]\n",
      "loss: 0.033666 [   30/   90]\n",
      "loss: 0.053462 [   60/   90]\n",
      "val Error : \n",
      " Accuracy: 96.3% Avg loss : 0.000020\n",
      "\n",
      "Epoch 10\n",
      "------------------\n",
      "loss: 0.117978 [    0/   90]\n",
      "loss: 0.001220 [   30/   90]\n",
      "loss: 0.006788 [   60/   90]\n",
      "val Error : \n",
      " Accuracy: 96.3% Avg loss : 0.000278\n",
      "\n",
      "Epoch 11\n",
      "------------------\n",
      "loss: 0.002254 [    0/   90]\n",
      "loss: 0.005633 [   30/   90]\n",
      "loss: 0.000018 [   60/   90]\n",
      "val Error : \n",
      " Accuracy: 98.1% Avg loss : 0.004078\n",
      "\n",
      "Epoch 12\n",
      "------------------\n",
      "loss: 0.002891 [    0/   90]\n",
      "loss: 0.237131 [   30/   90]\n",
      "loss: 0.000215 [   60/   90]\n",
      "val Error : \n",
      " Accuracy: 94.4% Avg loss : 0.000014\n",
      "\n",
      "Epoch 13\n",
      "------------------\n",
      "loss: 0.019164 [    0/   90]\n",
      "loss: 0.000020 [   30/   90]\n",
      "loss: 0.044164 [   60/   90]\n",
      "val Error : \n",
      " Accuracy: 98.1% Avg loss : 0.000434\n",
      "\n",
      "Epoch 14\n",
      "------------------\n",
      "loss: 0.000061 [    0/   90]\n",
      "loss: 0.367161 [   30/   90]\n",
      "loss: 0.005363 [   60/   90]\n",
      "val Error : \n",
      " Accuracy: 94.4% Avg loss : 0.001904\n",
      "\n",
      "Epoch 15\n",
      "------------------\n",
      "loss: 0.021365 [    0/   90]\n",
      "loss: 0.028408 [   30/   90]\n",
      "loss: 0.009102 [   60/   90]\n",
      "val Error : \n",
      " Accuracy: 98.1% Avg loss : 0.000424\n",
      "\n",
      "Epoch 16\n",
      "------------------\n",
      "loss: 0.064212 [    0/   90]\n",
      "loss: 0.000880 [   30/   90]\n",
      "loss: 0.007255 [   60/   90]\n",
      "val Error : \n",
      " Accuracy: 96.3% Avg loss : 0.000008\n",
      "\n",
      "Epoch 17\n",
      "------------------\n",
      "loss: 0.001542 [    0/   90]\n",
      "loss: 0.003255 [   30/   90]\n",
      "loss: 0.353690 [   60/   90]\n",
      "val Error : \n",
      " Accuracy: 98.1% Avg loss : 0.000003\n",
      "\n",
      "Epoch 18\n",
      "------------------\n",
      "loss: 0.124165 [    0/   90]\n",
      "loss: 0.008346 [   30/   90]\n",
      "loss: 0.012186 [   60/   90]\n",
      "val Error : \n",
      " Accuracy: 94.4% Avg loss : 0.000101\n",
      "\n",
      "Epoch 19\n",
      "------------------\n",
      "loss: 0.021363 [    0/   90]\n",
      "loss: 0.010264 [   30/   90]\n",
      "loss: 0.029413 [   60/   90]\n",
      "val Error : \n",
      " Accuracy: 98.1% Avg loss : 0.000047\n",
      "\n",
      "Epoch 20\n",
      "------------------\n",
      "loss: 0.000066 [    0/   90]\n",
      "loss: 0.057533 [   30/   90]\n",
      "loss: 0.003354 [   60/   90]\n",
      "val Error : \n",
      " Accuracy: 94.4% Avg loss : 0.000799\n",
      "\n",
      "Done!\n"
     ]
    }
   ],
   "source": [
    "epochs =20\n",
    "train_loss_log  =[]\n",
    "\n",
    "for t in range(epochs) :\n",
    "    print(f\"Epoch {t+1}\\n------------------\")\n",
    "    train(train_dataloader, model, loss_fn, optimizer)\n",
    "    test(val_dataloader, model, loss_fn)\n",
    "    \n",
    "print(\"Done!\")\n"
   ]
  },
  {
   "cell_type": "code",
   "execution_count": 19,
   "id": "2818ac35",
   "metadata": {
    "execution": {
     "iopub.execute_input": "2022-03-11T06:56:15.551300Z",
     "iopub.status.busy": "2022-03-11T06:56:15.536739Z",
     "iopub.status.idle": "2022-03-11T06:56:15.650728Z",
     "shell.execute_reply": "2022-03-11T06:56:15.651256Z",
     "shell.execute_reply.started": "2022-03-11T06:35:57.838914Z"
    },
    "papermill": {
     "duration": 0.180918,
     "end_time": "2022-03-11T06:56:15.651486",
     "exception": false,
     "start_time": "2022-03-11T06:56:15.470568",
     "status": "completed"
    },
    "tags": []
   },
   "outputs": [
    {
     "data": {
      "image/png": "[encoded data removed]",
      "text/plain": [
       "<Figure size 432x288 with 1 Axes>"
      ]
     },
     "metadata": {
      "needs_background": "light"
     },
     "output_type": "display_data"
    }
   ],
   "source": [
    "np.shape(train_loss_log)\n",
    "plt.plot(train_loss_log)\n",
    "plt.show()"
   ]
  },
  {
   "cell_type": "code",
   "execution_count": null,
   "id": "73996d20",
   "metadata": {
    "papermill": {
     "duration": 0.030899,
     "end_time": "2022-03-11T06:56:15.714631",
     "exception": false,
     "start_time": "2022-03-11T06:56:15.683732",
     "status": "completed"
    },
    "tags": []
   },
   "outputs": [],
   "source": []
  }
 ],
 "metadata": {
  "kernelspec": {
   "display_name": "Python 3",
   "language": "python",
   "name": "python3"
  },
  "language_info": {
   "codemirror_mode": {
    "name": "ipython",
    "version": 3
   },
   "file_extension": ".py",
   "mimetype": "text/x-python",
   "name": "python",
   "nbconvert_exporter": "python",
   "pygments_lexer": "ipython3",
   "version": "3.7.12"
  },
  "papermill": {
   "default_parameters": {},
   "duration": 15.775928,
   "end_time": "2022-03-11T06:56:16.459817",
   "environment_variables": {},
   "exception": null,
   "input_path": "__notebook__.ipynb",
   "output_path": "__notebook__.ipynb",
   "parameters": {},
   "start_time": "2022-03-11T06:56:00.683889",
   "version": "2.3.3"
  }
 },
 "nbformat": 4,
 "nbformat_minor": 5
}
